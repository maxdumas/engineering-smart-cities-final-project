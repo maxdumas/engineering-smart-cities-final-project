{
 "cells": [
  {
   "cell_type": "code",
   "execution_count": null,
   "metadata": {},
   "outputs": [],
   "source": [
    "from ray.rllib.algorithms.ppo import PPO\n",
    "from ray import air, tune\n",
    "import ray\n",
    "\n",
    "from esc.epanet_env import N_SIMULATION_STEPS, EPANETEnv"
   ]
  },
  {
   "cell_type": "code",
   "execution_count": null,
   "metadata": {},
   "outputs": [],
   "source": [
    "ray.init(num_cpus=10, num_gpus=1, runtime_env={\"env_vars\": { \"CUDA_VISIBLE_DEVICES\": \"\" }})"
   ]
  },
  {
   "cell_type": "code",
   "execution_count": null,
   "metadata": {},
   "outputs": [],
   "source": [
    "\n",
    "N_TRAINING_ITERATIONS = 100\n",
    "gpu_count = 1.0\n",
    "driver_gpu = 1.0\n",
    "num_workers = 9\n",
    "num_gpus_per_worker = (gpu_count - driver_gpu) / num_workers\n",
    "# Configure the algorithm.\n",
    "config = {\n",
    "    \"env_config\": {},\n",
    "    # Use 5 environment workers (aka \"rollout workers\") that parallelly\n",
    "    # collect samples from their own environment clone(s).\n",
    "    \"num_workers\": num_workers,\n",
    "    \"create_env_on_driver\": False,\n",
    "    \"num_gpus\": driver_gpu,\n",
    "    \"num_gpus_per_worker\": num_gpus_per_worker,\n",
    "    \"horizon\": N_SIMULATION_STEPS,\n",
    "    \"train_batch_size\": N_SIMULATION_STEPS * num_workers,\n",
    "    \"rollout_fragment_length\": N_SIMULATION_STEPS,\n",
    "    \"batch_mode\": \"complete_episodes\",\n",
    "    \"lr\": 0.005,\n",
    "    # Change this to \"framework: torch\", if you are using PyTorch.\n",
    "    # Also, use \"framework: tf2\" for tf2.x eager execution.\n",
    "    \"framework\": \"tf2\",\n",
    "    \"eager_tracing\": True,\n",
    "    # Tweak the default model provided automatically by RLlib,\n",
    "    # given the environment's observation- and action spaces.\n",
    "    \"model\": {\n",
    "        \"fcnet_hiddens\": [256, 256],\n",
    "        \"fcnet_activation\": \"relu\",\n",
    "        \"use_lstm\": True,\n",
    "    },\n",
    "    \"recreate_failed_workers\": True,\n",
    "    \"log_sys_usage\": False,\n",
    "    # Set up a separate evaluation worker set for the\n",
    "    # `algo.evaluate()` call after training (see below).\n",
    "    \"evaluation_num_workers\": 1,\n",
    "    # Only for evaluation runs, render the env.\n",
    "    # \"evaluation_config\": {\n",
    "    #     \"render_env\": True,\n",
    "    # },\n",
    "    \"log_level\": \"ERROR\"\n",
    "}\n",
    "\n",
    "# Create our RLlib Trainer.\n",
    "algo = PPO(env=EPANETEnv, config=config)\n",
    "# algo = PPO.from_checkpoint(\"/Users/maxdumas/ray_results/PPO_EPANETEnv_2022-11-27_22-44-29tztzkh8w/checkpoint_000451\")\n",
    "\n",
    "# Print the final config\n",
    "print(algo.config)\n",
    "\n",
    "# Run it for n training iterations. A training iteration includes\n",
    "# parallel sample collection by the environment workers as well as\n",
    "# loss calculation on the collected batch and a model update.\n",
    "for i in range(N_TRAINING_ITERATIONS):\n",
    "    print(algo.train())\n",
    "\n",
    "    if i % 5 == 0:\n",
    "        checkpoint = algo.save()\n",
    "        print(f\"Checkpoint saved to {checkpoint}\")\n",
    "\n",
    "# Evaluate the trained Trainer (and render each timestep to the shell's\n",
    "# output).\n",
    "algo.evaluate()\n",
    "\n",
    "# ray.init(num_cpus=10, num_gpus=1)\n",
    "\n",
    "# tuner = tune.Tuner(tune.with_resources(APPO, {\"cpu\": 10, \"gpu\": 1}), param_space=config, run_config=air.RunConfig(\n",
    "#     checkpoint_config=air.CheckpointConfig(checkpoint_frequency=10),\n",
    "#     stop={\n",
    "#         \"training_iteration\": 200\n",
    "#     }))\n",
    "\n",
    "# results = tuner.fit()\n",
    "# results"
   ]
  }
 ],
 "metadata": {
  "kernelspec": {
   "display_name": "Python 3.10.7 ('esc-m1')",
   "language": "python",
   "name": "python3"
  },
  "language_info": {
   "codemirror_mode": {
    "name": "ipython",
    "version": 3
   },
   "file_extension": ".py",
   "mimetype": "text/x-python",
   "name": "python",
   "nbconvert_exporter": "python",
   "pygments_lexer": "ipython3",
   "version": "3.10.7"
  },
  "orig_nbformat": 4,
  "vscode": {
   "interpreter": {
    "hash": "c8f4bb13063b1dbbfd7a49fd5006aa99a26f36b8d3a01a04de9cd2813c1957dc"
   }
  }
 },
 "nbformat": 4,
 "nbformat_minor": 2
}
