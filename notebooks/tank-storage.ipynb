{
 "cells": [
  {
   "cell_type": "code",
   "execution_count": 5,
   "metadata": {},
   "outputs": [],
   "source": [
    "import numpy as np\n",
    "from numpy.typing import ArrayLike, NDArray\n",
    "from typing import Union, Any\n",
    "import matplotlib.pyplot as plt"
   ]
  },
  {
   "cell_type": "code",
   "execution_count": 6,
   "metadata": {},
   "outputs": [],
   "source": [
    "# the first tuple element is the time of day, second is the relative demand\n",
    "# level at that time as a multiple of the average demand level\n",
    "water_demand_sample = np.array([\n",
    "    [0, 0.5],\n",
    "    [3, 0.2],\n",
    "    [6, 0.25],\n",
    "    [7, 1.75],\n",
    "    [12, 1.25],\n",
    "    [13, 1.5],\n",
    "    [14, 1.4],\n",
    "    [16, 0.9],\n",
    "    [18.5, 1.25],\n",
    "    [19, 1.75],\n",
    "    [20, 1.75],\n",
    "    [24, 0.4],\n",
    "])"
   ]
  },
  {
   "cell_type": "code",
   "execution_count": 7,
   "metadata": {},
   "outputs": [
    {
     "data": {
      "text/plain": [
       "1.075"
      ]
     },
     "execution_count": 7,
     "metadata": {},
     "output_type": "execute_result"
    }
   ],
   "source": [
    "np.mean(water_demand_sample[:, 1])"
   ]
  },
  {
   "cell_type": "code",
   "execution_count": 8,
   "metadata": {},
   "outputs": [],
   "source": [
    "MINUTES_PER_DAY = 60 * 24"
   ]
  },
  {
   "cell_type": "code",
   "execution_count": 9,
   "metadata": {},
   "outputs": [],
   "source": [
    "rng = np.random.default_rng(seed=42)"
   ]
  },
  {
   "cell_type": "code",
   "execution_count": 10,
   "metadata": {},
   "outputs": [],
   "source": [
    "water_demand = np.interp(np.linspace(0, 24, MINUTES_PER_DAY), water_demand_sample[:, 0], water_demand_sample[:, 1]) + rng.normal(size=MINUTES_PER_DAY, scale=0.05)"
   ]
  },
  {
   "cell_type": "code",
   "execution_count": 11,
   "metadata": {},
   "outputs": [
    {
     "data": {
      "text/plain": [
       "[<matplotlib.lines.Line2D at 0x7fd930047850>]"
      ]
     },
     "execution_count": 11,
     "metadata": {},
     "output_type": "execute_result"
    },
    {
     "data": {
      "image/png": "[encoded data removed]",
      "text/plain": [
       "<Figure size 432x288 with 1 Axes>"
      ]
     },
     "metadata": {
      "needs_background": "light"
     },
     "output_type": "display_data"
    }
   ],
   "source": [
    "plt.plot(np.arange(MINUTES_PER_DAY), water_demand)"
   ]
  },
  {
   "cell_type": "code",
   "execution_count": 40,
   "metadata": {},
   "outputs": [],
   "source": [
    "def relative_occupant_water_demand(t):\n",
    "    \"\"\"Given a the time of day in minutes t, returns the estimated factor of\n",
    "    occupant water demand relative to average water demand.\"\"\"\n",
    "\n",
    "    t_whole_min = np.rint(t).astype(np.int32)\n",
    "    return water_demand[t_whole_min]"
   ]
  },
  {
   "cell_type": "code",
   "execution_count": 13,
   "metadata": {},
   "outputs": [],
   "source": [
    "def typical_building_water_demand(\n",
    "    t: ArrayLike,\n",
    "):\n",
    "    \"\"\"Given a time of day in minutes t, returns the estimated water consumption\n",
    "    of a typical Manhattan building over 6 stories tall at that time, in liters\n",
    "    per minute.\"\"\"\n",
    "    return (\n",
    "        TYPICAL_BUILDING_MEAN_WATER_CONSUMPTION_LITER_PER_MINUTE\n",
    "        * relative_occupant_water_demand(t)\n",
    "    )\n"
   ]
  },
  {
   "cell_type": "code",
   "execution_count": 38,
   "metadata": {},
   "outputs": [
    {
     "data": {
      "text/plain": [
       "74.60529333333334"
      ]
     },
     "execution_count": 38,
     "metadata": {},
     "output_type": "execute_result"
    }
   ],
   "source": [
    "PER_PERSON_MEAN_WATER_CONSUMPTION_LITER_PER_DAY = 420.18\n",
    "TYPICAL_BUILDING_N_PEOPLE = 255.68\n",
    "TYPICAL_BUILDING_MEAN_WATER_CONSUMPTION_LITER_PER_DAY = PER_PERSON_MEAN_WATER_CONSUMPTION_LITER_PER_DAY * TYPICAL_BUILDING_N_PEOPLE\n",
    "TYPICAL_BUILDING_MEAN_WATER_CONSUMPTION_LITER_PER_MINUTE = TYPICAL_BUILDING_MEAN_WATER_CONSUMPTION_LITER_PER_DAY / MINUTES_PER_DAY\n",
    "TYPICAL_BUILDING_MEAN_WATER_CONSUMPTION_LITER_PER_MINUTE"
   ]
  },
  {
   "cell_type": "markdown",
   "metadata": {},
   "source": [
    "# Jenny's code"
   ]
  },
  {
   "cell_type": "markdown",
   "metadata": {},
   "source": [
    "Model the amount of water stored in the tank over the course of the day. This will be the sum of an integral of the inflow rate over time, the integral of the outflow rate over time, and the initial water level in the tank at the start of the day.\n",
    "f(inflow, level, demand) [over a “control” interval] => level [=> new inflow, => new time of day => new demand]\n"
   ]
  },
  {
   "cell_type": "code",
   "execution_count": 14,
   "metadata": {},
   "outputs": [],
   "source": [
    "from scipy import integrate"
   ]
  },
  {
   "cell_type": "code",
   "execution_count": 29,
   "metadata": {},
   "outputs": [],
   "source": [
    "def flow_rate(volume, time):\n",
    "    return volume / time"
   ]
  },
  {
   "cell_type": "code",
   "execution_count": 30,
   "metadata": {},
   "outputs": [],
   "source": [
    "inflow_volume = 100\n",
    "inflow_time = 10\n",
    "outflow_volume = 80\n",
    "outflow_time = 10"
   ]
  },
  {
   "cell_type": "code",
   "execution_count": 31,
   "metadata": {},
   "outputs": [],
   "source": [
    "inflow = lambda x:x*flow_rate(inflow_volume, inflow_time)\n",
    "outflow = lambda x:x*flow_rate(outflow_volume, outflow_time)"
   ]
  },
  {
   "cell_type": "code",
   "execution_count": 43,
   "metadata": {},
   "outputs": [],
   "source": [
    "def tank_water_amount(inflow, outflow, initial, a, b):\n",
    "    \"\"\"Given inflow rate, outflow rate, initial water level, lower time bound a and upper time bound b,\n",
    "    return amount of water that is stored in the tank.\"\"\"\n",
    "    \n",
    "    inflow = lambda x: x*typical_building_water_demand(a)\n",
    "    inflow_integral, inflow_error = integrate.quad(inflow, a, b)\n",
    "    outflow_integral, outflow_error = integrate.quad(outflow, a, b)\n",
    "    total_tank = inflow_integral - outflow_integral + initial # should be subtracting outflow\n",
    "    \n",
    "    return total_tank"
   ]
  },
  {
   "cell_type": "code",
   "execution_count": 44,
   "metadata": {},
   "outputs": [],
   "source": [
    "vol = tank_water_amount(inflow, outflow, 50, 0, 10)"
   ]
  },
  {
   "cell_type": "code",
   "execution_count": 45,
   "metadata": {},
   "outputs": [
    {
     "data": {
      "text/plain": [
       "1571.9661011302242"
      ]
     },
     "execution_count": 45,
     "metadata": {},
     "output_type": "execute_result"
    }
   ],
   "source": [
    "vol"
   ]
  }
 ],
 "metadata": {
  "kernelspec": {
   "display_name": "Python 3",
   "language": "python",
   "name": "python3"
  },
  "language_info": {
   "codemirror_mode": {
    "name": "ipython",
    "version": 3
   },
   "file_extension": ".py",
   "mimetype": "text/x-python",
   "name": "python",
   "nbconvert_exporter": "python",
   "pygments_lexer": "ipython3",
   "version": "3.8.3"
  }
 },
 "nbformat": 4,
 "nbformat_minor": 4
}
