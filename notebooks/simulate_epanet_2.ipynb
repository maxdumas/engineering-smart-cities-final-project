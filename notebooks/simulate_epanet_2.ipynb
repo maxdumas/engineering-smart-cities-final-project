{
 "cells": [
  {
   "cell_type": "code",
   "execution_count": null,
   "metadata": {},
   "outputs": [],
   "source": [
    "from ray.rllib.utils.framework import try_import_tf\n",
    "tf1, tf, tfv = try_import_tf()\n",
    "tf1.enable_eager_execution()"
   ]
  },
  {
   "cell_type": "code",
   "execution_count": null,
   "metadata": {},
   "outputs": [],
   "source": [
    "import numpy as np\n",
    "import matplotlib.pyplot as plt\n",
    "import ray\n",
    "from ray.rllib.algorithms.algorithm import Algorithm\n",
    "\n",
    "from esc.epanet_env import EPANETEnv\n"
   ]
  },
  {
   "cell_type": "code",
   "execution_count": null,
   "metadata": {},
   "outputs": [],
   "source": [
    "algo = Algorithm.from_checkpoint('/Users/maxdumas/ray_results/PPO_EPANETEnv_2022-12-04_19-03-289hjken8u/checkpoint_000021')"
   ]
  },
  {
   "cell_type": "code",
   "execution_count": null,
   "metadata": {},
   "outputs": [],
   "source": [
    "algo.get_policy().config[\"model\"]"
   ]
  },
  {
   "cell_type": "code",
   "execution_count": null,
   "metadata": {},
   "outputs": [],
   "source": [
    "env = EPANETEnv({})\n",
    "obs = env.reset()\n",
    "done = False\n",
    "O = []\n",
    "A = []\n",
    "R = []\n",
    "\n",
    "Z = np.zeros(algo.get_policy().config[\"model\"][\"lstm_cell_size\"], np.float32)\n",
    "state=[Z, Z] \n",
    "\n",
    "prev_action = 0\n",
    "prev_reward = 0\n",
    "\n",
    "while not done:\n",
    "    action, state, _ = algo.compute_single_action(observation=obs, state=state, prev_action=prev_action, prev_reward=prev_reward)\n",
    "    obs, reward, done, _ = env.step(action)\n",
    "    O.append(obs)\n",
    "    A.append(action)\n",
    "    R.append(reward)\n",
    "    prev_action = action\n",
    "    prev_reward = reward\n",
    "\n",
    "O = np.array(O)\n",
    "A = np.array(A)\n",
    "R = np.array(R)\n",
    "\n",
    "\n",
    "algo.stop()"
   ]
  },
  {
   "cell_type": "code",
   "execution_count": null,
   "metadata": {},
   "outputs": [],
   "source": [
    "plt.rcParams['figure.figsize'] = [8.0, 4.0]\n",
    "plt.rcParams['figure.dpi'] = 140"
   ]
  },
  {
   "cell_type": "code",
   "execution_count": null,
   "metadata": {},
   "outputs": [],
   "source": [
    "env.n_switches"
   ]
  },
  {
   "cell_type": "code",
   "execution_count": null,
   "metadata": {},
   "outputs": [],
   "source": [
    "A"
   ]
  },
  {
   "cell_type": "code",
   "execution_count": null,
   "metadata": {},
   "outputs": [],
   "source": [
    "fig, ax1 = plt.subplots()\n",
    "ln1 = ax1.plot(O[:, 0] * A, label=\"Cost Rate ($/min)\")\n",
    "ax2 = ax1.twinx()\n",
    "ln2 = ax2.plot(np.cumsum(O[:, 0] * A), label=\"Total Cost ($)\", color=\"r\")\n",
    "ax2.grid()\n",
    "ax1.grid()\n",
    "ax1.legend(ln1 + ln2, [l.get_label() for l in ln1 + ln2], loc=2)\n",
    "ax1.set_xlabel(\"Minute of Simulation\")\n",
    "ax1.set_ylabel(\"$/min\")\n",
    "ax2.set_ylabel(\"$\")\n",
    "plt.title(\"Pump Energy Cost\")"
   ]
  },
  {
   "cell_type": "code",
   "execution_count": null,
   "metadata": {},
   "outputs": [],
   "source": [
    "plt.plot(O[:, 2])\n",
    "plt.grid()\n",
    "plt.title(\"Tank Head (m)\")"
   ]
  },
  {
   "cell_type": "code",
   "execution_count": null,
   "metadata": {},
   "outputs": [],
   "source": [
    "# plt.plot(O[:, -1])\n",
    "# plt.grid()\n",
    "# plt.title(\"Number of Pump Actions\")"
   ]
  },
  {
   "cell_type": "code",
   "execution_count": null,
   "metadata": {},
   "outputs": [],
   "source": [
    "fig, ax1 = plt.subplots()\n",
    "ln1 = ax1.plot(R, label=\"Instant Reward\")\n",
    "ax2 = ax1.twinx()\n",
    "ln2 = ax2.plot(np.cumsum(R), label=\"Cumulative Reward\", color=\"r\")\n",
    "ax2.grid()\n",
    "ax1.grid()\n",
    "ax1.legend(ln1 + ln2, [l.get_label() for l in ln1 + ln2], loc=2)\n",
    "ax1.set_xlabel(\"Minute of Simulation\")\n",
    "plt.title(\"Reward\")"
   ]
  }
 ],
 "metadata": {
  "kernelspec": {
   "display_name": "Python 3.10.7 ('esc-m1')",
   "language": "python",
   "name": "python3"
  },
  "language_info": {
   "codemirror_mode": {
    "name": "ipython",
    "version": 3
   },
   "file_extension": ".py",
   "mimetype": "text/x-python",
   "name": "python",
   "nbconvert_exporter": "python",
   "pygments_lexer": "ipython3",
   "version": "3.10.7"
  },
  "orig_nbformat": 4,
  "vscode": {
   "interpreter": {
    "hash": "c8f4bb13063b1dbbfd7a49fd5006aa99a26f36b8d3a01a04de9cd2813c1957dc"
   }
  }
 },
 "nbformat": 4,
 "nbformat_minor": 2
}
